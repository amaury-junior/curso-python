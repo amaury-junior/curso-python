{
 "cells": [
  {
   "cell_type": "markdown",
   "metadata": {},
   "source": [
    "<img src=\"../images/repeticao.png\">\n",
    "\n",
    "## Laços de repetição com For\n",
    "\n",
    "> O `for`trabalha com objetos **iteráveis**, ou seja, com tudo aquilo que ele pode percorrer, que no caso são listas e strings.\n",
    "\n",
    "> Saiba mais em: [Iteradores e iteráveis em Python | Ciência Programada](https://cienciaprogramada.com.br/2021/08/iteradores-e-iteraveis-em-python/)"
   ]
  },
  {
   "cell_type": "code",
   "execution_count": 11,
   "metadata": {},
   "outputs": [
    {
     "name": "stdout",
     "output_type": "stream",
     "text": [
      "M\n",
      "e\n",
      "u\n",
      " \n",
      "t\n",
      "e\n",
      "x\n",
      "t\n",
      "o\n"
     ]
    }
   ],
   "source": [
    "for item in 'Meu texto':\n",
    "    print(item)"
   ]
  },
  {
   "cell_type": "code",
   "execution_count": 12,
   "metadata": {},
   "outputs": [
    {
     "name": "stdout",
     "output_type": "stream",
     "text": [
      "1\n",
      "2\n",
      "3\n",
      "4\n",
      "5\n"
     ]
    }
   ],
   "source": [
    "lista = [1, 2, 3, 4, 5]\n",
    "\n",
    "for item in lista:\n",
    "    print(item)"
   ]
  },
  {
   "cell_type": "code",
   "execution_count": 20,
   "metadata": {},
   "outputs": [
    {
     "name": "stdout",
     "output_type": "stream",
     "text": [
      "0\n",
      "1\n",
      "2\n",
      "3\n",
      "4\n",
      "5\n",
      "6\n",
      "7\n",
      "8\n",
      "9\n"
     ]
    }
   ],
   "source": [
    "lista = range(0, 10)\n",
    "\n",
    "for item in lista:\n",
    "    print(item)"
   ]
  },
  {
   "cell_type": "code",
   "execution_count": 21,
   "metadata": {},
   "outputs": [
    {
     "name": "stdout",
     "output_type": "stream",
     "text": [
      "0\n",
      "2\n",
      "4\n",
      "6\n",
      "8\n"
     ]
    }
   ],
   "source": [
    "lista = range(0, 10, 2)\n",
    "\n",
    "for item in lista:\n",
    "    print(item)"
   ]
  },
  {
   "cell_type": "markdown",
   "metadata": {},
   "source": [
    "### Auxiliar `continue`"
   ]
  },
  {
   "cell_type": "code",
   "execution_count": 15,
   "metadata": {},
   "outputs": [
    {
     "name": "stdout",
     "output_type": "stream",
     "text": [
      "1\n",
      "2\n",
      "4\n",
      "5\n"
     ]
    }
   ],
   "source": [
    "lista = [1, 2, 3, 4, 5]\n",
    "\n",
    "for item in lista:\n",
    "    if item == 3:\n",
    "        continue\n",
    "    print(item)"
   ]
  },
  {
   "cell_type": "markdown",
   "metadata": {},
   "source": [
    "## Laços de repetição com While e o auxiliar `break`\n",
    "  \n",
    "\n",
    "```\n",
    "while(condição de entrada no loop):\n",
    "    \n",
    "    tarefa a ser executada do loop\n",
    "    \n",
    "    condição de parada do loop\n",
    "    (mecanismo que altera a condição de entrada ou macanismo que chama a função break)\n",
    "```"
   ]
  },
  {
   "cell_type": "code",
   "execution_count": 8,
   "metadata": {},
   "outputs": [
    {
     "name": "stdout",
     "output_type": "stream",
     "text": [
      "\n",
      " *** Status: formulário disponível! ***\n",
      "\n",
      " *** Status: formulário disponível! ***\n",
      "\n",
      " *** Status: formulário disponível! ***\n",
      "\n",
      " *** Status: formulário disponível! ***\n",
      "\n",
      " *** Status: formulário disponível! ***\n",
      "\n",
      " *** Status: formulário disponível! ***\n",
      "\n",
      " *** Status: formulário disponível! ***\n",
      "\n",
      " *** Status: formulário disponível! ***\n",
      "\n",
      " *** Status: formulário disponível! ***\n",
      "\n",
      " *** Status: formulário disponível! ***\n",
      "\n",
      "Status: formulário encerrado!\n"
     ]
    }
   ],
   "source": [
    "import time\n",
    "\n",
    "tempo = 10\n",
    "\n",
    "while(tempo > 0):\n",
    "    print('\\n *** Status: formulário disponível! ***')\n",
    "    time.sleep(1) \n",
    "    \n",
    "    tempo = tempo - 1\n",
    "          \n",
    "print('\\nStatus: formulário encerrado!')"
   ]
  },
  {
   "cell_type": "code",
   "execution_count": 9,
   "metadata": {},
   "outputs": [
    {
     "name": "stdout",
     "output_type": "stream",
     "text": [
      "\n",
      " *** Status: formulário disponível! ***\n",
      "\n",
      " *** Status: formulário disponível! ***\n",
      "\n",
      " *** Status: formulário disponível! ***\n",
      "\n",
      " *** Status: formulário disponível! ***\n",
      "\n",
      " *** Status: formulário disponível! ***\n",
      "\n",
      " *** Status: formulário disponível! ***\n",
      "\n",
      " *** Status: formulário disponível! ***\n",
      "\n",
      " *** Status: formulário disponível! ***\n",
      "\n",
      " *** Status: formulário disponível! ***\n",
      "\n",
      " *** Status: formulário disponível! ***\n",
      "\n",
      "Status: formulário encerrado!\n"
     ]
    }
   ],
   "source": [
    "status = True\n",
    "\n",
    "while(status):\n",
    "    print('\\n *** Status: formulário disponível! ***')\n",
    "    time.sleep(1) \n",
    "    \n",
    "    tempo = tempo + 1\n",
    "    \n",
    "    if tempo == 10:\n",
    "        break\n",
    "          \n",
    "print('\\nStatus: formulário encerrado!')"
   ]
  },
  {
   "cell_type": "markdown",
   "metadata": {},
   "source": [
    "> Saiba mais em [Loops e Estruturas de Repetição no Python no Python Academy por Erickson Lopes](https://pythonacademy.com.br/blog/estruturas-de-repeticao)"
   ]
  },
  {
   "cell_type": "markdown",
   "metadata": {},
   "source": [
    "## Exercícios"
   ]
  },
  {
   "cell_type": "markdown",
   "metadata": {},
   "source": [
    "1) Faça um programa que leia um nome de usuário e a sua senha e não aceite a senha igual ao nome do usuário, mostrando uma mensagem de erro e voltando a pedir as informações."
   ]
  },
  {
   "cell_type": "code",
   "execution_count": null,
   "metadata": {},
   "outputs": [],
   "source": []
  },
  {
   "cell_type": "markdown",
   "metadata": {},
   "source": [
    "2) Há um método disponível nas variáveis do tipo **string** chamado `count`. Ele recebe uma string como parâmetro e tem como objetivo contar quantas vezes esse parâmetro aparece na string original onde ele está sendo chamado. Ou seja, se eu quiser contar quantas vezes a letra **\"a\"** aparece em **\"banana\"** eu posso fazer algo como:\n",
    "```python\n",
    "fruta = 'banana'\n",
    "fruta.count(a)\n",
    "```\n",
    "\n",
    "E isso vai me dar o resultado 3. Não acredita? Testa ai! "
   ]
  },
  {
   "cell_type": "code",
   "execution_count": null,
   "metadata": {},
   "outputs": [],
   "source": []
  },
  {
   "cell_type": "markdown",
   "metadata": {},
   "source": [
    "Pois agora que sabemos disso, é chegado o momento de descobrimos quantos **\"e\"** existem em [Prefixo de Verão ](https://www.youtube.com/watch?v=CObCy8qduuo&ab_channel=FunkeirodaZonaSul) música da maravilhosa Banda Mel. \n",
    "\n",
    "Eu vou deixar a string já montada aqui e você faz o resto beleza?!"
   ]
  },
  {
   "cell_type": "code",
   "execution_count": 3,
   "metadata": {},
   "outputs": [
    {
     "data": {
      "text/plain": [
       "'Ae, ae, ae, ae Ei, ei, ei, ei Oô, oô, oô, oô, oô, oô, o  Quando você chegar Quando você chegar Quando você chegar Numa nova estação Te espero no verão  Salve, salvador Me bato, me quebro tudo por amor Eu sou do pelô O negro é raça é fruto do amor Salve, salvador Me bato, me quebro tudo por amor Eu sou do pelô  Ae, ae, ae, ae Ei, ei, ei, ei Oô, oô, oô, oô, oô, oô, o  Ae, ae, ae, ae Ei, ei, ei, ei Oô, oô, o'"
      ]
     },
     "execution_count": 3,
     "metadata": {},
     "output_type": "execute_result"
    }
   ],
   "source": [
    "'Ae, ae, ae, ae \\\n",
    "Ei, ei, ei, ei \\\n",
    "Oô, oô, oô, oô, oô, oô, o \\\n",
    " \\\n",
    "Quando você chegar \\\n",
    "Quando você chegar \\\n",
    "Quando você chegar \\\n",
    "Numa nova estação \\\n",
    "Te espero no verão \\\n",
    " \\\n",
    "Salve, salvador \\\n",
    "Me bato, me quebro tudo por amor \\\n",
    "Eu sou do pelô \\\n",
    "O negro é raça é fruto do amor \\\n",
    "Salve, salvador \\\n",
    "Me bato, me quebro tudo por amor \\\n",
    "Eu sou do pelô \\\n",
    " \\\n",
    "Ae, ae, ae, ae \\\n",
    "Ei, ei, ei, ei \\\n",
    "Oô, oô, oô, oô, oô, oô, o \\\n",
    " \\\n",
    "Ae, ae, ae, ae \\\n",
    "Ei, ei, ei, ei \\\n",
    "Oô, oô, o' "
   ]
  },
  {
   "cell_type": "code",
   "execution_count": null,
   "metadata": {},
   "outputs": [],
   "source": []
  },
  {
   "cell_type": "markdown",
   "metadata": {},
   "source": [
    "> ##### Você tem alguma ideia de como fazer essa contagem sem usar o count()?"
   ]
  },
  {
   "cell_type": "code",
   "execution_count": null,
   "metadata": {},
   "outputs": [],
   "source": []
  },
  {
   "cell_type": "markdown",
   "metadata": {},
   "source": [
    "3) Faça um programa que leia 5 números e informe o maior número."
   ]
  },
  {
   "cell_type": "code",
   "execution_count": null,
   "metadata": {},
   "outputs": [],
   "source": []
  },
  {
   "cell_type": "markdown",
   "metadata": {},
   "source": [
    "4) Faça um programa que receba dois números inteiros e gere os números inteiros que estão no intervalo compreendido por eles.\n"
   ]
  },
  {
   "cell_type": "code",
   "execution_count": null,
   "metadata": {},
   "outputs": [],
   "source": []
  },
  {
   "cell_type": "markdown",
   "metadata": {},
   "source": [
    "5) Altere o programa anterior para mostrar no final a soma dos números."
   ]
  },
  {
   "cell_type": "code",
   "execution_count": null,
   "metadata": {},
   "outputs": [],
   "source": []
  },
  {
   "cell_type": "markdown",
   "metadata": {},
   "source": [
    "6) Faça um programa que exiba as tabuadas de 1 até 10 no formato: \"2 x 3 = 6\", (utilize dois comandos for)"
   ]
  },
  {
   "cell_type": "code",
   "execution_count": null,
   "metadata": {},
   "outputs": [],
   "source": []
  },
  {
   "cell_type": "markdown",
   "metadata": {},
   "source": [
    "---\n",
    "\n",
    "## Quais são as outras formas de praticar esses conceitos?\n",
    "\n",
    "<img src=\"https://media.giphy.com/media/jeypEnZltv7HnASSg2/giphy.gif\" align=\"left\">"
   ]
  },
  {
   "cell_type": "markdown",
   "metadata": {},
   "source": [
    "<Adicionar atividade de sua preferência para aplicação dos conceitos>"
   ]
  }
 ],
 "metadata": {
  "kernelspec": {
   "display_name": "Python 3 (ipykernel)",
   "language": "python",
   "name": "python3"
  },
  "language_info": {
   "codemirror_mode": {
    "name": "ipython",
    "version": 3
   },
   "file_extension": ".py",
   "mimetype": "text/x-python",
   "name": "python",
   "nbconvert_exporter": "python",
   "pygments_lexer": "ipython3",
   "version": "3.10.9"
  }
 },
 "nbformat": 4,
 "nbformat_minor": 4
}

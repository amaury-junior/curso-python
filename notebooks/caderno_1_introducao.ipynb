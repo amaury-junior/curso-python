{
  "cells": [
    {
      "cell_type": "markdown",
      "metadata": {
        "id": "85vNnaN75veG"
      },
      "source": [
        "<img src=\"https://github.com/soterolab/curso-python/blob/main/images/3.png?raw=1\">\n"
      ]
    },
    {
      "cell_type": "markdown",
      "metadata": {
        "id": "x-rsao9q5veI"
      },
      "source": [
        "# Python\n",
        "\n",
        "![Python](https://github.com/soterolab/curso-python/blob/main/images/python.png?raw=1)\n",
        "\n",
        "\n",
        "\n",
        "**[Python](https://python.org.br/)** — É uma linguagem de programação que tem entre seus princípios a legibilidade e permite fazer uma série de tarefas de forma bem simples.\n",
        "\n",
        "> **Precisamos instalar ela no nosso computador!**\n",
        "\n",
        "![Google colab](https://github.com/soterolab/curso-python/blob/main/images/colab.png?raw=1)\n",
        "\n",
        "- **[Colab Reserach Google](https://colab.research.google.com/)** — É uma ferramenta da Google que permite escrever e executar código Python daí mesmo do seu navegador, sem precisar instalar nada.\n"
      ]
    },
    {
      "cell_type": "markdown",
      "metadata": {
        "id": "7Nmka3Wx5veI"
      },
      "source": [
        "### Interagindo com Python"
      ]
    },
    {
      "cell_type": "code",
      "execution_count": null,
      "metadata": {
        "id": "w2s3PQ2J5veJ",
        "outputId": "59fefb31-3247-459a-d9c6-91f6c0502110"
      },
      "outputs": [
        {
          "data": {
            "text/plain": [
              "4"
            ]
          },
          "execution_count": 1,
          "metadata": {},
          "output_type": "execute_result"
        }
      ],
      "source": [
        "2 + 2"
      ]
    },
    {
      "cell_type": "code",
      "execution_count": null,
      "metadata": {
        "id": "3vreZcNs5veK",
        "outputId": "6b3a67d7-c5ec-45c6-ca36-4f6a2bca6faf"
      },
      "outputs": [
        {
          "data": {
            "text/plain": [
              "'Salvador - BA'"
            ]
          },
          "execution_count": 2,
          "metadata": {},
          "output_type": "execute_result"
        }
      ],
      "source": [
        "'Salvador' + ' ' + '-' + ' ' + 'BA'"
      ]
    },
    {
      "cell_type": "markdown",
      "metadata": {
        "id": "cRcH9F165veK"
      },
      "source": [
        "### Definindo uma variável"
      ]
    },
    {
      "cell_type": "code",
      "execution_count": null,
      "metadata": {
        "id": "9EHsBCAP5veK"
      },
      "outputs": [],
      "source": [
        "nome = 'Aya'"
      ]
    },
    {
      "cell_type": "markdown",
      "metadata": {
        "id": "Lyf6hj8l5veK"
      },
      "source": [
        "### Imprimindo a variável"
      ]
    },
    {
      "cell_type": "code",
      "execution_count": null,
      "metadata": {
        "id": "M_P5r_bS5veK",
        "outputId": "f1eb8762-90ec-437a-d934-aa85c7825472"
      },
      "outputs": [
        {
          "name": "stdout",
          "output_type": "stream",
          "text": [
            "Aya\n"
          ]
        }
      ],
      "source": [
        "print(nome)"
      ]
    },
    {
      "cell_type": "markdown",
      "metadata": {
        "id": "MO1Pqvdw5veL"
      },
      "source": [
        "### Definindo uma variável de um tipo de dado avançado"
      ]
    },
    {
      "cell_type": "code",
      "execution_count": null,
      "metadata": {
        "id": "r7ZjiGRA5veL"
      },
      "outputs": [],
      "source": [
        "lista = [1, 2, 3, 4, 5]"
      ]
    },
    {
      "cell_type": "markdown",
      "metadata": {
        "id": "tnzRjH_85veL"
      },
      "source": [
        "### Imprimindo os itens da lista ao quadrado"
      ]
    },
    {
      "cell_type": "code",
      "execution_count": null,
      "metadata": {
        "id": "PBuEPTYu5veL",
        "outputId": "2bc4b52f-f713-4f8a-910a-abb52a8eb214"
      },
      "outputs": [
        {
          "name": "stdout",
          "output_type": "stream",
          "text": [
            "1\n",
            "4\n",
            "9\n",
            "16\n",
            "25\n"
          ]
        }
      ],
      "source": [
        "for item in lista:\n",
        "    quadrado = item * item\n",
        "    print(quadrado)"
      ]
    },
    {
      "cell_type": "markdown",
      "metadata": {
        "id": "raay8D4b5veL"
      },
      "source": [
        "### Imprimindo os itens da lista ao quadrado diretamente na função `print()`"
      ]
    },
    {
      "cell_type": "code",
      "execution_count": null,
      "metadata": {
        "id": "2KizIZtH5veM",
        "outputId": "ba2651b8-26d3-4fd2-9d86-a76a97455780"
      },
      "outputs": [
        {
          "name": "stdout",
          "output_type": "stream",
          "text": [
            "1\n",
            "4\n",
            "9\n",
            "16\n",
            "25\n"
          ]
        }
      ],
      "source": [
        "for item in lista:\n",
        "    print(item*item)"
      ]
    },
    {
      "cell_type": "markdown",
      "metadata": {
        "id": "Ue6jva8s5veM"
      },
      "source": [
        "![Jupyter Notebook](https://github.com/soterolab/curso-python/blob/main/images/jupyter_notebook.png?raw=1)\n"
      ]
    },
    {
      "cell_type": "markdown",
      "metadata": {
        "id": "xbSzm7Ak5veM"
      },
      "source": [
        "- **Notebook ou [Jupyter Notebook](https://jupyter.org/)**: Ferramenta que permite a visualização de códigos, imagens, gifs, texto e equações. E tambem permite a execução do código, exibindo o resultado tudo no mesmo documento."
      ]
    },
    {
      "cell_type": "markdown",
      "metadata": {
        "id": "zNSuGhFa5veM"
      },
      "source": [
        "### Alguns exemplos sobre como escrever simbolos e fórmulas:\n",
        "- [Motivating Examples - Documentação do Jupyter Notebook](https://jupyter-notebook.readthedocs.io/en/stable/examples/Notebook/Typesetting%20Equations.html)\n",
        "- [Lista de symbolos e fórmulas - Archer Reilly](https://csrgxtu.github.io/2015/03/20/Writing-Mathematic-Fomulars-in-Markdown/)"
      ]
    },
    {
      "cell_type": "markdown",
      "metadata": {
        "id": "TneQTWUz5veM"
      },
      "source": [
        "$\\sqrt{k}$"
      ]
    },
    {
      "cell_type": "markdown",
      "metadata": {
        "id": "OZ_2XQy05veM"
      },
      "source": [
        "$\\sqrt[n]{k}$"
      ]
    },
    {
      "cell_type": "markdown",
      "metadata": {
        "id": "ovkC4AdB5veM"
      },
      "source": [
        "$a^{2}=b^{2}+c^{2}$"
      ]
    },
    {
      "cell_type": "markdown",
      "metadata": {
        "id": "QvS25-Ev5veN"
      },
      "source": [
        "$\\int\\limits_a^b$"
      ]
    },
    {
      "cell_type": "markdown",
      "metadata": {
        "id": "lTujAW685veN"
      },
      "source": [
        "$\\displaystyle\\sum_{i=1}^{10} t_i$"
      ]
    },
    {
      "cell_type": "markdown",
      "metadata": {
        "id": "oKVB4n_o5veN"
      },
      "source": [
        "\\begin{equation*}\n",
        "1 +  \\frac{q^2}{(1-q)}+\\frac{q^6}{(1-q)(1-q^2)}+\\cdots =\n",
        "\\prod_{j=0}^{\\infty}\\frac{1}{(1-q^{5j+2})(1-q^{5j+3})},\n",
        "\\quad\\quad \\text{for } |q|<1.\n",
        "\\end{equation*}"
      ]
    },
    {
      "cell_type": "markdown",
      "metadata": {
        "id": "g5E_CEbl5veN"
      },
      "source": [
        "### Adicionando Gifs e Imagens"
      ]
    },
    {
      "cell_type": "markdown",
      "metadata": {
        "id": "ZtWrVijS5veN"
      },
      "source": [
        "![Gif carnavrau!](https://media.giphy.com/media/LqZZp4y9ANZIcQzuXC/giphy.gif)"
      ]
    },
    {
      "cell_type": "markdown",
      "metadata": {
        "id": "1Qss6FCq5veN"
      },
      "source": [
        "![Markdown](https://github.com/soterolab/curso-python/blob/main/images/markdown.png?raw=1)"
      ]
    },
    {
      "cell_type": "markdown",
      "metadata": {
        "id": "HAIy9ygp5veN"
      },
      "source": [
        "\n",
        "- **[Markdown](https://docs.pipz.com/central-de-ajuda/learning-center/guia-basico-de-markdown#open)** — É uma linguagem de marcação de texto que serve para facilitar a escrita de texto na web.\n",
        "É o que usamos para escrever os textos em um Jupyter Notebook.\n",
        "\n",
        "**A seguir temos um exemplo de escrita usando a linguagem de marcação [HTML](https://developer.mozilla.org/pt-BR/docs/Web/HTML)**\n",
        "(Que é o que está por trás de todos os sites que acessamos).\n",
        "\n",
        "Código html:\n",
        ">```\n",
        "> <h1>Título</h1>\n",
        "> <h2>Título menor</h2>\n",
        "> <h3>Título menor ainda</h3> ```\n",
        "\n",
        "Resultado:\n",
        "> <h1>Título</h1>\n",
        "> <h2>Título menor</h2>\n",
        "> <h3>Título menor ainda</h3>\n",
        "\n",
        "**E aqui abaixo um exemplo usando Markdown.**\n",
        "\n",
        "Codigo markdown:\n",
        ">```\n",
        "> # Titulo\n",
        "> ## Título menor\n",
        "> ### Título menor ainda\n",
        "```\n",
        "\n",
        "Resultado:\n",
        "> # Título\n",
        "> ## Título menor\n",
        "> ### Título menor ainda"
      ]
    },
    {
      "cell_type": "markdown",
      "metadata": {
        "id": "mceoPtAP5veN"
      },
      "source": [
        "### Listas\n",
        "\n",
        "- Item 1\n",
        "- Item 2\n",
        "- Item 3\n",
        "\n",
        "\n",
        "* Item 1\n",
        "* Item 2\n",
        "* Item 3"
      ]
    },
    {
      "cell_type": "markdown",
      "metadata": {
        "id": "leW-4DSD5veO"
      },
      "source": [
        "### Listas enumeradas\n",
        "\n",
        "1. Item\n",
        "2. Item\n",
        "3. Item\n",
        "1. Item\n",
        "2. Item\n",
        "3. Item"
      ]
    },
    {
      "cell_type": "markdown",
      "metadata": {
        "id": "fOlcsCru5veO"
      },
      "source": [
        "### Listas aninhadas\n",
        "\n",
        "- Item 1\n",
        "    - Item 2\n",
        "        - Item 3\n",
        "\n",
        "\n",
        "1. Item\n",
        "    1. Item\n",
        "        1. Item\n",
        "        2. Item"
      ]
    },
    {
      "cell_type": "markdown",
      "metadata": {
        "id": "uwW8Iym95veO"
      },
      "source": [
        "### Links\n",
        "\n",
        "[Meu repositório](https://github.com/soterolab/curso-python)\n"
      ]
    },
    {
      "cell_type": "markdown",
      "metadata": {
        "id": "FVtdohaf5veO"
      },
      "source": [
        "![Github](https://github.com/soterolab/curso-python/blob/main/images/github.png?raw=1)\n"
      ]
    },
    {
      "cell_type": "markdown",
      "metadata": {
        "id": "cnJeaChH5veO"
      },
      "source": [
        "- **[GitHub](https://github.com)** — É uma ferramenta para publicar, compartilhar e versionar arquivos, como textos e códigos. O Github se utiliza do [Git](https://git-scm.com/book/pt-br/v2/Come%C3%A7ando-Sobre-Controle-de-Vers%C3%A3o) para permitir o versionamento de arquivos. É esse versionamento que permite que a gente dê \"ctrl+z\" nos projetos, sistemas e textos.\n",
        "\n",
        "### Saiba mais!\n",
        "\n",
        "- [Entenda as diferenças de Git, GitHub e GitLab | Charlotte Lorelei, Vanessa Tonini e\n",
        "Gabriel Ferreira canal Alura Cursos Online](https://www.youtube.com/watch?v=_i9DUJcn-mU)\n",
        "- [Como usar o Google COLAB para ANALISAR DADOS? | Handshake #08](https://youtu.be/_mIwsA2ddSc)\n",
        "- [1.3 Começando - O Básico do Git](https://git-scm.com/book/pt-pt/v2/Come%C3%A7ando-O-B%C3%A1sico-do-Git)\n",
        "- [Git: guia prático - Roger Dudler](https://rogerdudler.github.io/git-guide/index.pt_BR.html)\n",
        "- [Como usar Git e Github na prática: Guia para iniciantes | Mayk Brito](https://youtu.be/2alg7MQ6_sI?list=WL)"
      ]
    }
  ],
  "metadata": {
    "kernelspec": {
      "display_name": "Python 3 (ipykernel)",
      "language": "python",
      "name": "python3"
    },
    "language_info": {
      "codemirror_mode": {
        "name": "ipython",
        "version": 3
      },
      "file_extension": ".py",
      "mimetype": "text/x-python",
      "name": "python",
      "nbconvert_exporter": "python",
      "pygments_lexer": "ipython3",
      "version": "3.10.9"
    },
    "colab": {
      "provenance": []
    }
  },
  "nbformat": 4,
  "nbformat_minor": 0
}